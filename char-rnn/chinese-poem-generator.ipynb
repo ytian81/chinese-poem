{
 "cells": [
  {
   "cell_type": "code",
   "execution_count": 1,
   "metadata": {
    "collapsed": true
   },
   "outputs": [],
   "source": [
    "# for auto-reloading external modules\n",
    "# see http://stackoverflow.com/questions/1907993/autoreload-of-modules-in-ipython\n",
    "%load_ext autoreload\n",
    "%autoreload 2"
   ]
  },
  {
   "cell_type": "markdown",
   "metadata": {},
   "source": [
    "## Data"
   ]
  },
  {
   "cell_type": "code",
   "execution_count": 2,
   "metadata": {},
   "outputs": [
    {
     "name": "stdout",
     "output_type": "stream",
     "text": [
      "poems size: 1000, vocab size: 4130\n"
     ]
    }
   ],
   "source": [
    "from data import load_poem, make_paragraph, make_vocab, poem_to_tensor\n",
    "\n",
    "poems = load_poem(1000, '杜甫')\n",
    "poems = make_paragraph(poems)\n",
    "vocab, vocab_size = make_vocab(poems)\n",
    "print(\"poems size: %d, vocab size: %d\" % (len(poems), vocab_size))"
   ]
  },
  {
   "cell_type": "code",
   "execution_count": 3,
   "metadata": {},
   "outputs": [
    {
     "name": "stdout",
     "output_type": "stream",
     "text": [
      "戚戚去故里，悠悠赴交河。公家有程期，亡命嬰禍羅。君已富土境，開邊一何多？棄絕父母恩，吞聲行負戈。\n",
      "出門日已遠，不受徒旅欺。骨肉恩豈斷，男兒死無時。走馬脫轡頭，手中挑青絲。捷下萬仞岡，俯身試搴旗。\n",
      "磨刀嗚咽水，水赤刃傷手。欲輕腸斷聲，心緒亂已久。丈夫誓許國，憤惋復何有？功名圖麒麟，戰骨當速朽。\n",
      "送徒既有長，遠戍亦有身。生死向前去，不勞吏怒嗔。路逢相識人，附書與六親。哀哉兩決絕，不復同苦辛。\n",
      "迢迢萬餘里，領我赴三軍。軍中異苦樂，主將寧盡聞。隔河見胡騎，倏忽數百羣。我始爲奴僕，幾時樹功勳。\n"
     ]
    }
   ],
   "source": [
    "print('\\n'.join(poems[:5]))"
   ]
  },
  {
   "cell_type": "markdown",
   "metadata": {},
   "source": [
    "## Train"
   ]
  },
  {
   "cell_type": "code",
   "execution_count": null,
   "metadata": {},
   "outputs": [],
   "source": [
    "from model import RNN\n",
    "from solver import Solver\n",
    "\n",
    "model = RNN(vocab_size, 256, 256)\n",
    "solver = Solver(model, poems, vocab, num_epochs=1000, learning_rate=1e-3, print_every=100, plot_every=10, verbose=True)"
   ]
  },
  {
   "cell_type": "code",
   "execution_count": null,
   "metadata": {},
   "outputs": [],
   "source": [
    "solver.train()"
   ]
  },
  {
   "cell_type": "code",
   "execution_count": null,
   "metadata": {},
   "outputs": [],
   "source": [
    "import matplotlib.pyplot as plt\n",
    "import matplotlib.ticker as ticker\n",
    "%matplotlib inline\n",
    "\n",
    "plt.figure()\n",
    "plt.plot(solver.all_losses)"
   ]
  },
  {
   "cell_type": "code",
   "execution_count": null,
   "metadata": {
    "collapsed": true
   },
   "outputs": [],
   "source": []
  }
 ],
 "metadata": {
  "kernelspec": {
   "display_name": "Python 3",
   "language": "python",
   "name": "python3"
  },
  "language_info": {
   "codemirror_mode": {
    "name": "ipython",
    "version": 3
   },
   "file_extension": ".py",
   "mimetype": "text/x-python",
   "name": "python",
   "nbconvert_exporter": "python",
   "pygments_lexer": "ipython3",
   "version": "3.6.2"
  }
 },
 "nbformat": 4,
 "nbformat_minor": 2
}
